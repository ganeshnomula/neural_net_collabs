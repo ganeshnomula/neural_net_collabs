{
  "nbformat": 4,
  "nbformat_minor": 0,
  "metadata": {
    "colab": {
      "name": "Copy of Exercise2-Question.ipynb",
      "version": "0.3.2",
      "provenance": [],
      "collapsed_sections": [],
      "include_colab_link": true
    },
    "kernelspec": {
      "name": "python3",
      "display_name": "Python 3"
    }
  },
  "cells": [
    {
      "cell_type": "markdown",
      "metadata": {
        "id": "view-in-github",
        "colab_type": "text"
      },
      "source": [
        "<a href=\"https://colab.research.google.com/github/ganeshnomula/neural_net_collabs/blob/master/Exercise2_Question.ipynb\" target=\"_parent\"><img src=\"https://colab.research.google.com/assets/colab-badge.svg\" alt=\"Open In Colab\"/></a>"
      ]
    },
    {
      "metadata": {
        "id": "tOoyQ70H00_s",
        "colab_type": "text"
      },
      "cell_type": "markdown",
      "source": [
        "## Exercise 2\n",
        "In the course you learned how to do classification using Fashion MNIST, a data set containing items of clothing. There's another, similar dataset called MNIST which has items of handwriting -- the digits 0 through 9.\n",
        "\n",
        "Write an MNIST classifier that trains to 99% accuracy or above, and does it without a fixed number of epochs -- i.e. you should stop training once you reach that level of accuracy.\n",
        "\n",
        "Some notes:\n",
        "1. It should succeed in less than 10 epochs, so it is okay to change epochs to 10, but nothing larger\n",
        "2. When it reaches 99% or greater it should print out the string \"Reached 99% accuracy so cancelling training!\"\n",
        "3. If you add any additional variables, make sure you use the same names as the ones used in the class\n",
        "\n",
        "I've started the code for you below -- how would you finish it? "
      ]
    },
    {
      "metadata": {
        "id": "9rvXQGAA0ssC",
        "colab_type": "code",
        "colab": {
          "base_uri": "https://localhost:8080/",
          "height": 527
        },
        "outputId": "76a79ea5-93db-4339-8e8d-f80c40941332"
      },
      "cell_type": "code",
      "source": [
        "# YOUR CODE SHOULD START HERE\n",
        "import tensorflow as tf\n",
        "mnist = tf.keras.datasets.mnist\n",
        "\n",
        "class myCallback(tf.keras.callbacks.Callback):\n",
        "  def on_epoch_end(self, epoch, logs={}):\n",
        "    if logs.get('acc') > 0.99:\n",
        "      print(\"\\n Reached 99% Accuracy so cancelling training\")\n",
        "      self.model.stop_training = True\n",
        "\n",
        "# YOUR CODE SHOULD END HERE\n",
        "\n",
        "(x_train, y_train),(x_test, y_test) = mnist.load_data()\n",
        "# print(x_train)\n",
        "# print(y_train)\n",
        "# print(x_test)\n",
        "# print(y_test)\n",
        "# YOUR CODE SHOULD START HERE\n",
        "#now we have to normalize\n",
        "x_train, x_test =  x_train/255.0, x_test/255.0\n",
        "\n",
        "callbacks = myCallback()\n",
        "      \n",
        "# YOUR CODE SHOULD END HERE\n",
        "model = tf.keras.models.Sequential([\n",
        "# YOUR CODE SHOULD START HERE\n",
        "    tf.keras.layers.Flatten(),\n",
        "    tf.keras.layers.Dense(128, activation = tf.nn.relu),\n",
        "    tf.keras.layers.Dense(10, activation = tf.nn.softmax)\n",
        "# YOUR CODE SHOULD END HERE\n",
        "])\n",
        "\n",
        "model.compile(optimizer='adam',\n",
        "              loss='sparse_categorical_crossentropy',\n",
        "              metrics=['accuracy'])\n",
        "\n",
        "# YOUR CODE SHOULD START HERE\n",
        "model.fit(x_train, y_train, epochs=9, callbacks = [callbacks])\n",
        "\n",
        "model.evaluate(x_test, y_test)\n",
        "\n",
        "model.predict(x_test)\n",
        "\n",
        "\n",
        "# YOUR CODE SHOULD END HERE"
      ],
      "execution_count": 5,
      "outputs": [
        {
          "output_type": "stream",
          "text": [
            "Epoch 1/9\n",
            "60000/60000 [==============================] - 7s 111us/sample - loss: 0.2590 - acc: 0.9256\n",
            "Epoch 2/9\n",
            "60000/60000 [==============================] - 7s 109us/sample - loss: 0.1146 - acc: 0.9655\n",
            "Epoch 3/9\n",
            "60000/60000 [==============================] - 7s 109us/sample - loss: 0.0788 - acc: 0.9759\n",
            "Epoch 4/9\n",
            "60000/60000 [==============================] - 7s 110us/sample - loss: 0.0577 - acc: 0.9823\n",
            "Epoch 5/9\n",
            "60000/60000 [==============================] - 6s 108us/sample - loss: 0.0461 - acc: 0.9862\n",
            "Epoch 6/9\n",
            "60000/60000 [==============================] - 7s 110us/sample - loss: 0.0364 - acc: 0.9889\n",
            "Epoch 7/9\n",
            "59616/60000 [============================>.] - ETA: 0s - loss: 0.0283 - acc: 0.9910\n",
            " Reached 99% Accuracy so cancelling training\n",
            "60000/60000 [==============================] - 7s 109us/sample - loss: 0.0284 - acc: 0.9910\n",
            "10000/10000 [==============================] - 0s 49us/sample - loss: 0.0752 - acc: 0.9788\n"
          ],
          "name": "stdout"
        },
        {
          "output_type": "execute_result",
          "data": {
            "text/plain": [
              "array([[1.1818031e-09, 7.9952900e-10, 1.4735338e-07, ..., 9.9999070e-01,\n",
              "        1.6013884e-08, 1.8186892e-06],\n",
              "       [4.9125659e-10, 2.7017556e-06, 9.9999690e-01, ..., 5.2112813e-16,\n",
              "        4.1035597e-07, 3.5599711e-13],\n",
              "       [4.2973727e-07, 9.9892056e-01, 1.5750033e-04, ..., 4.4121750e-04,\n",
              "        4.5918536e-04, 4.3066859e-07],\n",
              "       ...,\n",
              "       [4.9159712e-16, 1.2776688e-12, 5.9700407e-14, ..., 1.3334774e-07,\n",
              "        2.2467457e-08, 1.3398530e-06],\n",
              "       [1.2441673e-13, 5.9750815e-14, 8.9263737e-15, ..., 1.0760955e-11,\n",
              "        5.1115808e-07, 3.3900137e-12],\n",
              "       [8.4617818e-10, 6.3435318e-10, 3.3509712e-10, ..., 3.3151586e-15,\n",
              "        1.3514708e-11, 4.1946020e-14]], dtype=float32)"
            ]
          },
          "metadata": {
            "tags": []
          },
          "execution_count": 5
        }
      ]
    }
  ]
}